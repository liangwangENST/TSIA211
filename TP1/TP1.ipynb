{
 "cells": [
  {
   "cell_type": "markdown",
   "metadata": {},
   "source": [
    "TP1 TSIA211\n"
   ]
  },
  {
   "cell_type": "markdown",
   "metadata": {},
   "source": [
    "### EX1 \n"
   ]
  },
  {
   "cell_type": "markdown",
   "metadata": {},
   "source": [
    "There are 400 images in the database.\n"
   ]
  },
  {
   "cell_type": "code",
   "execution_count": 3,
   "metadata": {
    "collapsed": true
   },
   "outputs": [],
   "source": [
    "import numpy as np\n",
    "import matplotlib.pyplot as plt\n",
    "import scipy.optimize\n",
    "import scipy.sparse\n",
    "import scipy.sparse.linalg"
   ]
  },
  {
   "cell_type": "code",
   "execution_count": 4,
   "metadata": {},
   "outputs": [
    {
     "name": "stdout",
     "output_type": "stream",
     "text": [
      "each image has  10304  pixels\n"
     ]
    }
   ],
   "source": [
    "pixel = 92 *112\n",
    "print('each image has ', pixel,' pixels')\n"
   ]
  },
  {
   "cell_type": "code",
   "execution_count": 5,
   "metadata": {
    "collapsed": true
   },
   "outputs": [],
   "source": [
    "#read file \n",
    "def build_matrix_from_faces(folder='att_faces', minidata=False):\n",
    "    # load images\n",
    "    # 400 images of size (112, 92)\n",
    "    M = []\n",
    "    if minidata is True:\n",
    "        nb_subjects = 1\n",
    "    else:\n",
    "        nb_subjects = 40\n",
    "    for subject in range(1, nb_subjects + 1\n",
    "                        ):\n",
    "        for image in range(1, 11):\n",
    "            face = plt.imread(folder + '/s' + str(subject)\n",
    "                              + '/' + str(image) + '.pgm')\n",
    "            M.append(face.ravel())\n",
    "\n",
    "    return np.array(M, dtype=float)\n",
    "\n",
    "def vectorize(W, H):\n",
    "    return np.concatenate((W.ravel(), H.ravel()))\n",
    "\n",
    "def unvectorize_M(W_H, M):\n",
    "    # number of elements in W_H is (n+p)*k where M is of size n x m\n",
    "    # W has the nk first elements\n",
    "    # H has the kp last elements\n",
    "    n, p = M.shape\n",
    "    k = W_H.shape[0] // (n + p)\n",
    "    W = W_H[:n * k].reshape((n, k))\n",
    "    H = W_H[n * k:].reshape((k, p))\n",
    "    return W, H"
   ]
  },
  {
   "cell_type": "code",
   "execution_count": 14,
   "metadata": {
    "collapsed": true
   },
   "outputs": [],
   "source": [
    "# Small data to test the algorithm\n",
    "M = build_matrix_from_faces(folder='att_faces', minidata=True)\n",
    "def unvectorize(W_H): \n",
    "    return unvectorize_M(W_H, M)\n",
    "k = 2"
   ]
  },
  {
   "cell_type": "code",
   "execution_count": 15,
   "metadata": {},
   "outputs": [
    {
     "data": {
      "image/png": "[encoded data removed]",
      "text/plain": [
       "<matplotlib.figure.Figure at 0x7f2bb328b400>"
      ]
     },
     "metadata": {
      "needs_background": "light"
     },
     "output_type": "display_data"
    }
   ],
   "source": [
    "# To see the first face:\n",
    "plt.imshow(M[1].reshape((112, 92)), cmap='gray'); plt.show()"
   ]
  },
  {
   "cell_type": "code",
   "execution_count": 8,
   "metadata": {
    "collapsed": true
   },
   "outputs": [],
   "source": [
    "# Full data\n",
    "M = build_matrix_from_faces(folder='att_faces', minidata=False)\n",
    "def unvectorize(W_H): \n",
    "    return unvectorize_M(W_H, M)\n",
    "k = 38\n",
    "M.bui"
   ]
  },
  {
   "cell_type": "markdown",
   "metadata": {},
   "source": [
    "### EX2.1\n"
   ]
  },
  {
   "cell_type": "code",
   "execution_count": 23,
   "metadata": {},
   "outputs": [
    {
     "data": {
      "text/latex": [
       "Pour montrer que la fonction n'est pas convex, il faut qu'on puisse trouver un exemple non convex.\n",
       "On prend W1 =[1], H1=[2], W2 =[2], H2 = [1],M = [1]\n",
       "$$ f({ W }_{ 1 },{ H }_{ 1 })=\\frac { 1 }{ 2*1*1 } *(1-2*1)=\\frac { 1 }{ 2 } $$\n",
       "$$ f({ W }_{ 2 },{ H }_{ 2 })=\\frac { 1 }{ 2*1*1 } *(1-2*1)=\\frac { 1 }{ 2 } $$\n",
       "$$ f(\\frac{{W}_{1}+{W}_{2}}{2},\\frac{{H}_{1}+{H}_{2}}{2})=\\frac{1}{2*1*2}*(1-\\frac{2+1}{2}*\\frac{2+1}{2})=\\frac{9}{4} $$\n",
       "Donc, $$\\frac{1}{2}*f({ W }_{ 1 },{ H }_{ 1 })*f({ W }_{ 2 },{ H }_{ 2 }) <f(\\frac{{W}_{1}+{W}_{2}}{2},\\frac{{H}_{1}+{H}_{2}}{2},)$$\n",
       "Donc, la fonction n'est pas convex."
      ],
      "text/plain": [
       "<IPython.core.display.Latex object>"
      ]
     },
     "metadata": {},
     "output_type": "display_data"
    }
   ],
   "source": [
    " %%latex\n",
    " Pour montrer que la fonction n'est pas convex, il faut qu'on puisse trouver un exemple non convex.\n",
    " On prend W1 =[1], H1=[2], W2 =[2], H2 = [1],M = [1]\n",
    " $$ f({ W }_{ 1 },{ H }_{ 1 })=\\frac { 1 }{ 2*1*1 } *(1-2*1)=\\frac { 1 }{ 2 } $$\n",
    " $$ f({ W }_{ 2 },{ H }_{ 2 })=\\frac { 1 }{ 2*1*1 } *(1-2*1)=\\frac { 1 }{ 2 } $$\n",
    " $$ f(\\frac{{W}_{1}+{W}_{2}}{2},\\frac{{H}_{1}+{H}_{2}}{2})=\\frac{1}{2*1*2}*(1-\\frac{2+1}{2}*\\frac{2+1}{2})=\\frac{9}{4} $$\n",
    " Donc, $$\\frac{1}{2}*f({ W }_{ 1 },{ H }_{ 1 })*f({ W }_{ 2 },{ H }_{ 2 }) <f(\\frac{{W}_{1}+{W}_{2}}{2},\\frac{{H}_{1}+{H}_{2}}{2},)$$\n",
    " Donc, la fonction n'est pas convex.\n"
   ]
  },
  {
   "cell_type": "markdown",
   "metadata": {},
   "source": [
    "### EX2.2"
   ]
  },
  {
   "cell_type": "code",
   "execution_count": 37,
   "metadata": {},
   "outputs": [
    {
     "data": {
      "text/latex": [
       "\n",
       "Calculater le gradient \n",
       "$$ f({ W },{ H })=\\frac { 1 }{ 2*n*p } *\\parallel M-WH\\parallel $$\n",
       "$$ \\frac {\\alpha  f}{\\alpha W} =\\frac{1}{2np} * tr(({M-WH}^{T})*(M-WH)) $$\n",
       "$$ \\quad     \\quad                       =tr({M}^{T}*M)-2tr({M}^{T}WH)+tr({H}^{T}{W}^{T}WH)$$\n",
       "$$ \\quad     \\quad                       =\\frac{1}{np}(-M{H}^{T}+WH{H}^{T})$$\n",
       "\n",
       "\n",
       "$$ \\frac {\\alpha  f}{\\alpha H} =\\frac{1}{2np} * tr(({M-WH}^{T})*(M-WH)) $$\n",
       "$$ \\quad   \\quad                         =tr({M}^{T}*M)-2tr({M}^{T}WH)+tr({H}^{T}{W}^{T}WH)$$\n",
       "$$ \\quad   \\quad                         =\\frac{1}{np}(-{W}^{T}M+{W}^{T}{W}{H})$$"
      ],
      "text/plain": [
       "<IPython.core.display.Latex object>"
      ]
     },
     "metadata": {},
     "output_type": "display_data"
    }
   ],
   "source": [
    "%%latex\n",
    "\n",
    "Calculater le gradient \n",
    "$$ f({ W },{ H })=\\frac { 1 }{ 2*n*p } *\\parallel M-WH\\parallel $$\n",
    "$$ \\frac {\\alpha  f}{\\alpha W} =\\frac{1}{2np} * tr(({M-WH}^{T})*(M-WH)) $$\n",
    "$$ \\quad     \\quad                       =tr({M}^{T}*M)-2tr({M}^{T}WH)+tr({H}^{T}{W}^{T}WH)$$\n",
    "$$ \\quad     \\quad                       =\\frac{1}{np}(-M{H}^{T}+WH{H}^{T})$$\n",
    "\n",
    "\n",
    "$$ \\frac {\\alpha  f}{\\alpha H} =\\frac{1}{2np} * tr(({M-WH}^{T})*(M-WH)) $$\n",
    "$$ \\quad   \\quad                         =tr({M}^{T}*M)-2tr({M}^{T}WH)+tr({H}^{T}{W}^{T}WH)$$\n",
    "$$ \\quad   \\quad                         =\\frac{1}{np}(-{W}^{T}M+{W}^{T}{W}{H})$$\n"
   ]
  },
  {
   "cell_type": "code",
   "execution_count": 42,
   "metadata": {},
   "outputs": [
    {
     "data": {
      "text/latex": [
       "Pour être lipschitz continus, il faut que le degré de la polynomiale inférieur 1, c'est à dire le degré <=1\n",
       "Dans ce cas là, le degré =3, donc ce n'est pas lipschitz continue"
      ],
      "text/plain": [
       "<IPython.core.display.Latex object>"
      ]
     },
     "metadata": {},
     "output_type": "display_data"
    }
   ],
   "source": [
    "%%latex\n",
    "Pour être lipschitz continus, il faut que le degré de la polynomiale inférieur 1, c'est à dire le degré <=1\n",
    "Dans ce cas là, le degré =3, donc ce n'est pas lipschitz continue"
   ]
  },
  {
   "cell_type": "markdown",
   "metadata": {},
   "source": [
    "### EX3.1"
   ]
  },
  {
   "cell_type": "code",
   "execution_count": 18,
   "metadata": {},
   "outputs": [
    {
     "name": "stdout",
     "output_type": "stream",
     "text": [
      "(10, 2)\n",
      "(2,)\n",
      "[  4915.17649804  45705.53261464]\n",
      "(2, 10304)\n"
     ]
    }
   ],
   "source": [
    "W0, S, H0 = scipy.sparse.linalg.svds(M,k)\n",
    "print(W0.shape)\n",
    "print(S.shape)\n",
    "print(H0.shape)\n"
   ]
  },
  {
   "cell_type": "markdown",
   "metadata": {},
   "source": [
    "C'est une méthode d'approximation. le désavantage de svds est qu'il va décomposer des matrice non positifs. Donc, on va forcer WO et H0 en value non négatif."
   ]
  },
  {
   "cell_type": "markdown",
   "metadata": {},
   "source": [
    "L'autre possibilité pour l'initialisation: on peut prendre la méthode LU décomposition. "
   ]
  },
  {
   "cell_type": "markdown",
   "metadata": {},
   "source": [
    "### EX3.2"
   ]
  }
 ],
 "metadata": {
  "kernelspec": {
   "display_name": "Python 3",
   "language": "python",
   "name": "python3"
  },
  "language_info": {
   "codemirror_mode": {
    "name": "ipython",
    "version": 3
   },
   "file_extension": ".py",
   "mimetype": "text/x-python",
   "name": "python",
   "nbconvert_exporter": "python",
   "pygments_lexer": "ipython3",
   "version": "3.6.6"
  }
 },
 "nbformat": 4,
 "nbformat_minor": 2
}
